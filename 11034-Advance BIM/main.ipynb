{
 "cells": [
  {
   "cell_type": "markdown",
   "id": "b72bc0ed",
   "metadata": {},
   "source": [
    "# Group 3 - validation U-Value(Walls, Slabs, Roof)\n",
    "\n",
    "This script is elaborated for the course 11034 - Advance Building Information Modelling. \n",
    "\n",
    "The code is written by Bruno Adam and Oswaldo Hernandez. \n",
    "\n",
    "We are not responsible by the relevancy of the values used for this code. The code has been developped for an educational purpose. It can not be used for any commercial purpose.\n",
    "\n",
    "The code has to be lauch in the correct folder organisation."
   ]
  },
  {
   "cell_type": "markdown",
   "id": "7bf5bb99",
   "metadata": {},
   "source": [
    "### Import packages"
   ]
  },
  {
   "cell_type": "code",
   "execution_count": 1,
   "id": "cd162f68",
   "metadata": {},
   "outputs": [],
   "source": [
    "import ifcopenshell\n",
    "import numpy as np\n",
    "import pandas as pd"
   ]
  },
  {
   "cell_type": "markdown",
   "id": "3c4c9f48",
   "metadata": {},
   "source": [
    "### Import model IFC"
   ]
  },
  {
   "cell_type": "code",
   "execution_count": 2,
   "id": "840697ec",
   "metadata": {},
   "outputs": [
    {
     "name": "stdout",
     "output_type": "stream",
     "text": [
      "You are working on : Duplex Apartment\n",
      "You are working in : Chicago\n"
     ]
    }
   ],
   "source": [
    "model = ifcopenshell.open('model/Duplex_A_201109071.ifc')\n",
    "\n",
    "project = (model.by_type('IfcProject'))\n",
    "project_address = model.by_type('IfcPostalAddress')\n",
    "print('You are working on : ' + project[0].LongName)\n",
    "print('You are working in : ' + project_address[0].Town)"
   ]
  },
  {
   "cell_type": "markdown",
   "id": "4cee500d",
   "metadata": {},
   "source": [
    "## Menu"
   ]
  },
  {
   "cell_type": "code",
   "execution_count": null,
   "id": "85db37aa",
   "metadata": {},
   "outputs": [
    {
     "name": "stdout",
     "output_type": "stream",
     "text": [
      "\n",
      "\n",
      " Choose by taping <Y> or <N> for Yes or No to the following IfcEntities you want to analyse:\n",
      "Do you want to validate the IfcRoof?U\n",
      "Do you want to validate the IfcWallStandardCase?Y\n",
      "Do you want to validate the IfcRoof?O\n",
      "Do you want to validate the IfcSlab?N\n",
      "\n",
      "Thank you, you have chosen to analyse ['IfcWallStandardCase']\n",
      "Are you agree?<Y> or <N>N\n",
      "Do you want to validate the IfcRoof?Y\n",
      "Do you want to validate the IfcWallStandardCase?Y\n",
      "Do you want to validate the IfcRoof?Y\n",
      "Do you want to validate the IfcSlab?Y\n",
      "\n",
      "Thank you, you have chosen to analyse ['IfcWallStandardCase', 'IfcWall', 'IfcWallStandardCase', 'IfcRoof', 'IfcSlab']\n"
     ]
    }
   ],
   "source": [
    "ifctype = []\n",
    "print('\\n\\n Choose by taping <Y> or <N> for Yes or No to the following IfcEntities you want to analyse:')\n",
    "k = 0\n",
    "while k == 0:\n",
    "    IfcWall = str(input('Do you want to validate the IfcRoof?'))\n",
    "    IfcWallStandardCase = str(input('Do you want to validate the IfcWallStandardCase?'))\n",
    "    IfcRoof = str(input('Do you want to validate the IfcRoof?'))\n",
    "    IfcSlab = str(input('Do you want to validate the IfcSlab?'))\n",
    "    if IfcWall == 'Y':\n",
    "        ifctype.append('IfcWall')\n",
    "    if IfcWallStandardCase == 'Y':\n",
    "        ifctype.append('IfcWallStandardCase')\n",
    "    if IfcRoof == 'Y':\n",
    "        ifctype.append('IfcRoof')\n",
    "    if IfcSlab == 'Y':\n",
    "        ifctype.append('IfcSlab')\n",
    "    print('\\nThank you, you have chosen to analyse {}'.format(ifctype))\n",
    "    agree = str(input('Are you agree?<Y> or <N>'))\n",
    "    if agree == 'Y':\n",
    "        k=1\n",
    "    else:\n",
    "        k=0\n",
    "print('\\n\\nCalculations in progress...')"
   ]
  },
  {
   "cell_type": "markdown",
   "id": "1390843f",
   "metadata": {},
   "source": [
    "### The following has to be activate for upgrading the material bank on excel! "
   ]
  },
  {
   "cell_type": "code",
   "execution_count": 3,
   "id": "bc7a5b29",
   "metadata": {},
   "outputs": [
    {
     "name": "stdout",
     "output_type": "stream",
     "text": [
      "Enter the thermal conductivity (W/(m.K)) for the Material - Masonry - Brick:1.31\n",
      "Enter the thermal conductivity (W/(m.K)) for the Material - Misc. Air Layers - Air Space:0.025\n",
      "Enter the thermal conductivity (W/(m.K)) for the Material - Insulation / Thermal Barriers - Rigid insulation:0.03\n",
      "Enter the thermal conductivity (W/(m.K)) for the Material - Masonry - Concrete Block:0.5\n",
      "Enter the thermal conductivity (W/(m.K)) for the Material - Metal - Stud Layer:30\n",
      "Enter the thermal conductivity (W/(m.K)) for the Material - Plasterboard:0.19\n",
      "Enter the thermal conductivity (W/(m.K)) for the Material - Concrete - Cast In Situ:0.5\n",
      "Enter the thermal conductivity (W/(m.K)) for the Material - Concrete:0.5\n",
      "Enter the thermal conductivity (W/(m.K)) for the Material - Wood - Sheathing - plywood:0.17\n",
      "Enter the thermal conductivity (W/(m.K)) for the Material - Wood - Dimensional Lumber:0.17\n",
      "Enter the thermal conductivity (W/(m.K)) for the Material - Wood - Flooring:0.17\n",
      "Enter the thermal conductivity (W/(m.K)) for the Material - Insulation / Thermal Barriers - Semi-rigid insulation:0.03\n",
      "Enter the thermal conductivity (W/(m.K)) for the Material - Ceramic Tile:1.5\n",
      "Enter the thermal conductivity (W/(m.K)) for the Material - Masonry - Grout:0\n",
      "Enter the thermal conductivity (W/(m.K)) for the Material - Site - Grass:0\n",
      "Enter the thermal conductivity (W/(m.K)) for the Material - Roofing - Barrier:0.2\n",
      "Enter the thermal conductivity (W/(m.K)) for the Material - Roofing - EPDM Membrane:0.2\n",
      "Enter the thermal conductivity (W/(m.K)) for the Material - Metal - Steel - 345 MPa:50\n"
     ]
    }
   ],
   "source": [
    "filename_input = 'data_needed.xlsx'\n",
    "Material = []\n",
    "for material in model.by_type('IfcMaterial'):\n",
    "    U_value = input('Enter the thermal conductivity (W/(m.K)) for the Material - '+str(material.Name)+':')\n",
    "    Material.append([str(material.Name), U_value])\n",
    "Material = pd.DataFrame(Material, columns = ['Material Name','Thermal conductivity (W/(m.K))'])\n",
    "\n",
    "with pd.ExcelWriter(filename_input, mode='a', if_sheet_exists = 'replace') as writer:  \n",
    "    Material.to_excel(writer, sheet_name='Lambda', index=False, float_format=\"%.2f\")"
   ]
  },
  {
   "cell_type": "markdown",
   "id": "e471471a",
   "metadata": {},
   "source": [
    "## (Module) Get the U-values from IFC model\n",
    "You need to get a material bank with the thermal conductivity of different materials.\n",
    "Run this module before all the others! "
   ]
  },
  {
   "cell_type": "code",
   "execution_count": 3,
   "id": "40f01a1c",
   "metadata": {},
   "outputs": [],
   "source": [
    "def get_uvalue(globalid, model, Material, Rsi=0.12, Rso=0.06):\n",
    "    th_rest = Rsi + Rso\n",
    "    for entity in model.by_id(globalid).MaterialLayers:\n",
    "        th_cond = float(Material[np.where(Material == str(entity.Material.Name))[0][0]][1])\n",
    "        if th_cond != 0:\n",
    "            th_rest = th_rest + (entity.LayerThickness / th_cond)\n",
    "        else:\n",
    "            th_rest = th_rest\n",
    "    U_value = 1/th_rest\n",
    "    return(U_value)"
   ]
  },
  {
   "cell_type": "markdown",
   "id": "0ac47fe7",
   "metadata": {},
   "source": [
    "## (Module) Get the data from ifc_model\n",
    "\n",
    "Import an model (ifc) and the R_si and R_so from the input file to calculate the U-value depending on the layers thickness and materials (also in input file)."
   ]
  },
  {
   "cell_type": "code",
   "execution_count": 4,
   "id": "b7359675",
   "metadata": {},
   "outputs": [],
   "source": [
    "def get_data(ifc_entity, R_boundaries, model, Material):\n",
    "    data_ifctype = []\n",
    "    for entity in model.by_type(ifc_entity):\n",
    "        if ifc_entity == 'IfcRoof':\n",
    "            for relAssociatesMaterial in entity.HasAssociations:\n",
    "                for MaterialLayerSet in relAssociatesMaterial.RelatingMaterial:\n",
    "                    if (type(MaterialLayerSet) is not str) and (type(MaterialLayerSet) is not float):\n",
    "                        mat_identity = MaterialLayerSet.id()\n",
    "            isexternal = True\n",
    "            data_entity = [entity.GlobalId, entity.Name, isexternal, mat_identity]\n",
    "            data_ifctype.append(data_entity)\n",
    "        if ifc_entity == 'IfcSlab':\n",
    "            if entity.PredefinedType == 'FLOOR':\n",
    "                for relAssociatesMaterial in entity.HasAssociations:\n",
    "                    for MaterialLayerSet in relAssociatesMaterial.RelatingMaterial:\n",
    "                        if (type(MaterialLayerSet) is not str) and (type(MaterialLayerSet) is not float):\n",
    "                            mat_identity = MaterialLayerSet.id()\n",
    "                for prop in entity.IsDefinedBy[0].RelatingPropertyDefinition.HasProperties:\n",
    "                    if prop.Name == 'IsExternal':\n",
    "                        isexternal = prop.NominalValue.wrappedValue\n",
    "                    if 'Ext' in entity.Name:\n",
    "                        isexternal = True\n",
    "                data_entity = [entity.GlobalId, entity.Name, isexternal, mat_identity]\n",
    "                data_ifctype.append(data_entity)\n",
    "            else: \n",
    "                data_entity = [entity.GlobalId, entity.Name, 'NaN', 'NaN']#Exclude the roof \n",
    "        else: \n",
    "            for relAssociatesMaterial in entity.HasAssociations:\n",
    "                for MaterialLayerSet in relAssociatesMaterial.RelatingMaterial:\n",
    "                    if (type(MaterialLayerSet) is not str) and (type(MaterialLayerSet) is not float):\n",
    "                        mat_identity = MaterialLayerSet.id()\n",
    "            for prop in entity.IsDefinedBy[0].RelatingPropertyDefinition.HasProperties:\n",
    "                if prop.Name == 'IsExternal':\n",
    "                    isexternal = prop.NominalValue.wrappedValue\n",
    "                if 'Ext' in entity.Name:\n",
    "                    isexternal = True\n",
    "            data_entity = [entity.GlobalId, entity.Name, isexternal, mat_identity]\n",
    "            data_ifctype.append(data_entity)\n",
    "    data_ifctype = np.asarray(data_ifctype)\n",
    "    # Calculation of U_values\n",
    "    U_value = []\n",
    "    X = len(data_ifctype)\n",
    "    for entity in range(X):\n",
    "            if ifc_entity == 'IfcWallStandardCase':\n",
    "                Rsi = R_boundaries[1][1]\n",
    "                Rso = R_boundaries[1][2]\n",
    "                U_value.append(get_uvalue(int(data_ifctype[entity][3]),model,Material,Rsi=Rsi,Rso=Rso))\n",
    "            if ifc_entity == 'IfcWall':\n",
    "                Rsi = R_boundaries[1][1]\n",
    "                Rso = R_boundaries[1][2]\n",
    "                U_value.append(get_uvalue(int(data_ifctype[entity][3]),model,Material,Rsi=Rsi,Rso=Rso))\n",
    "            if ifc_entity == 'IfcSlab':\n",
    "                Rsi = R_boundaries[2][1]\n",
    "                Rso = R_boundaries[2][2]\n",
    "                U_value.append(get_uvalue(int(data_ifctype[entity][3]),model,Material,Rsi=Rsi,Rso=Rso))\n",
    "            if ifc_entity == 'IfcRoof':\n",
    "                Rsi = R_boundaries[0][1]\n",
    "                Rso = R_boundaries[0][2]\n",
    "                U_value.append(get_uvalue(int(data_ifctype[entity][3]),model,Material,Rsi=Rsi,Rso=Rso))\n",
    "    data_ifctype = pd.DataFrame(data_ifctype, columns = ['GlobalID', 'Name', 'IsExternal', 'ID Material'])\n",
    "    data_ifctype.insert(4,'U value(W/(m2.K))',U_value)\n",
    "    return (data_ifctype)"
   ]
  },
  {
   "cell_type": "markdown",
   "id": "3b8183cc",
   "metadata": {},
   "source": [
    "## (Module) verification U-values comparing with the input file\n",
    "\n",
    "run this module after the module \"get_data\""
   ]
  },
  {
   "cell_type": "code",
   "execution_count": 5,
   "id": "cfbaebac",
   "metadata": {},
   "outputs": [],
   "source": [
    "def get_target(ifc_entity, br18_uvalue, data_ifctype):\n",
    "    BR18_target = []\n",
    "    BR18_verif = []\n",
    "    ind_ext = data_ifctype.columns.get_loc('IsExternal')\n",
    "    ind_uval = data_ifctype.columns.get_loc('U value(W/(m2.K))')\n",
    "    raw_data = data_ifctype.values\n",
    "    M = len(data_ifctype)\n",
    "    for k in range(M):\n",
    "        external = raw_data[k][ind_ext]\n",
    "        if ifc_entity == 'IfcWallStandardCase':\n",
    "            requirement = float(br18_uvalue[1][0])\n",
    "        if ifc_entity == 'IfcWall':\n",
    "            requirement = float(br18_uvalue[1][0])\n",
    "        if ifc_entity == 'IfcRoof':\n",
    "            requirement = float(br18_uvalue[1][2])\n",
    "        if ifc_entity == 'IfcSlab':\n",
    "            requirement = float(br18_uvalue[1][1])\n",
    "        if external == 'True':\n",
    "            uvalue = float(raw_data[k][ind_uval])\n",
    "            if uvalue <= requirement:\n",
    "                BR18_verif.append('Good')\n",
    "            if uvalue > requirement:\n",
    "                BR18_verif.append('Not good')\n",
    "        if external == 'True':\n",
    "            BR18_target.append(requirement)\n",
    "        if external != 'True':\n",
    "            BR18_verif.append(' ')\n",
    "            BR18_target.append(' ')\n",
    "    \n",
    "    data_ifctype.insert(5, 'BR18 requirement', BR18_target)\n",
    "    data_ifctype.insert(6, 'BR18 is Respected', BR18_verif)\n",
    "    return(data_ifctype)"
   ]
  },
  {
   "cell_type": "markdown",
   "id": "2363fb0d",
   "metadata": {},
   "source": [
    "## (Module) export .xlsx\n",
    "This module import the values from the file \"input\" to verify the u-value.\n",
    "Run this file after the module \"get_target\"."
   ]
  },
  {
   "cell_type": "code",
   "execution_count": 6,
   "id": "3e7d29be",
   "metadata": {},
   "outputs": [],
   "source": [
    "def uvalue_excel(model, ifc_entity=['IfcWallStandardCase', 'IfcWall', 'IfcSlab', 'IfcRoof'], filename_input, filename_output):\n",
    "    #import values\n",
    "    br18_uvalue = pd.read_excel(filename_input, sheet_name='U_value', header = None)\n",
    "    R_boundaries = pd.read_excel(filename_input, sheet_name='R_boundaries', header = 0)\n",
    "    Material = pd.read_excel(filename_input, sheet_name='Lambda', header = None)\n",
    "    Material = np.asarray(Material)\n",
    "    R_boundaries = R_boundaries.values\n",
    "    for ifctype in ifc_entity:\n",
    "        # Calculations\n",
    "        data_type = get_data(ifctype, R_boundaries, model, Material)\n",
    "        # Verifications\n",
    "        table = get_target(ifctype, br18_uvalue, data_type)\n",
    "        with pd.ExcelWriter(filename_output, mode='a', if_sheet_exists = 'replace') as writer:  \n",
    "            table.to_excel(writer, sheet_name=ifctype, index =False, float_format=\"%.2f\")"
   ]
  },
  {
   "cell_type": "markdown",
   "id": "e96f78da-4d73-446f-9039-e3a5c6791fea",
   "metadata": {},
   "source": [
    "## Export Excel - U value verification\n",
    "\n",
    "Select IfcEntities that you want to explore in the vector \"ifctype\"."
   ]
  },
  {
   "cell_type": "code",
   "execution_count": 7,
   "id": "6c1300c6",
   "metadata": {},
   "outputs": [
    {
     "name": "stdout",
     "output_type": "stream",
     "text": [
      "\n",
      "\n",
      "\n",
      "Your excel file is ready to be explored! \n",
      "Verify the file to know which elements you have to modify to be correct with BR18.\n"
     ]
    }
   ],
   "source": [
    "filename_input = 'input/data_needed.xlsx'\n",
    "filename_output = 'output/uvalue_validation.xlsx'\n",
    "\n",
    "uvalue_excel(model, ifctype, filename_input, filename_output)\n",
    "\n",
    "print('\\n\\n\\nYour excel file is ready to be explored! \\nVerify the file to know which elements you have to modify to be correct with BR18.')"
   ]
  }
 ],
 "metadata": {
  "kernelspec": {
   "display_name": "Python 3 (ipykernel)",
   "language": "python",
   "name": "python3"
  },
  "language_info": {
   "codemirror_mode": {
    "name": "ipython",
    "version": 3
   },
   "file_extension": ".py",
   "mimetype": "text/x-python",
   "name": "python",
   "nbconvert_exporter": "python",
   "pygments_lexer": "ipython3",
   "version": "3.9.7"
  }
 },
 "nbformat": 4,
 "nbformat_minor": 5
}
